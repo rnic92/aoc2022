{
 "cells": [
  {
   "cell_type": "code",
   "execution_count": 37,
   "id": "01589f46",
   "metadata": {},
   "outputs": [],
   "source": [
    "def gen():\n",
    "    n = 0\n",
    "    yield n\n",
    "    n += 1\n",
    "    yield n\n",
    "        "
   ]
  },
  {
   "cell_type": "code",
   "execution_count": 38,
   "id": "d8eef921",
   "metadata": {},
   "outputs": [],
   "source": [
    "def gen2():\n",
    "    n = 0\n",
    "    while True:\n",
    "        yield n\n",
    "        n += 1"
   ]
  },
  {
   "cell_type": "code",
   "execution_count": 39,
   "id": "c7c34d98",
   "metadata": {},
   "outputs": [],
   "source": [
    "def mygen(generator):\n",
    "    for n in range(10):\n",
    "        print(next(generator))\n",
    "        n += 1"
   ]
  },
  {
   "cell_type": "code",
   "execution_count": 41,
   "id": "d295d0cd",
   "metadata": {},
   "outputs": [
    {
     "name": "stdout",
     "output_type": "stream",
     "text": [
      "0\n",
      "1\n",
      "2\n",
      "3\n",
      "4\n",
      "5\n",
      "6\n",
      "7\n",
      "8\n",
      "9\n"
     ]
    }
   ],
   "source": [
    "y = gen2()\n",
    "mygen(y)"
   ]
  },
  {
   "cell_type": "code",
   "execution_count": 29,
   "id": "181b9735",
   "metadata": {},
   "outputs": [
    {
     "name": "stdout",
     "output_type": "stream",
     "text": [
      "10\n",
      "11\n",
      "12\n",
      "13\n",
      "14\n",
      "15\n",
      "16\n",
      "17\n",
      "18\n",
      "19\n"
     ]
    }
   ],
   "source": [
    "mygen(y)"
   ]
  },
  {
   "cell_type": "code",
   "execution_count": 12,
   "id": "912757c1",
   "metadata": {},
   "outputs": [
    {
     "name": "stdout",
     "output_type": "stream",
     "text": [
      "0\n",
      "1\n"
     ]
    }
   ],
   "source": [
    "for item in gen():\n",
    "    print(item)"
   ]
  },
  {
   "cell_type": "code",
   "execution_count": null,
   "id": "706009b8",
   "metadata": {},
   "outputs": [],
   "source": []
  },
  {
   "cell_type": "code",
   "execution_count": null,
   "id": "84a0a5ab",
   "metadata": {},
   "outputs": [],
   "source": []
  },
  {
   "cell_type": "code",
   "execution_count": null,
   "id": "104fc1c9",
   "metadata": {},
   "outputs": [],
   "source": []
  },
  {
   "cell_type": "code",
   "execution_count": null,
   "id": "c116ab93",
   "metadata": {},
   "outputs": [],
   "source": []
  },
  {
   "cell_type": "code",
   "execution_count": 45,
   "id": "b63137d6",
   "metadata": {},
   "outputs": [],
   "source": [
    "a = \"200\\\n",
    "\\n\\\n",
    "300\\n\\\n",
    "400\\n\\\n",
    "\\n\\\n",
    "100\\n\\\n",
    "200\\n\\\n",
    "300\\n\\\n",
    "\\n\""
   ]
  },
  {
   "cell_type": "code",
   "execution_count": 47,
   "id": "98fdd242",
   "metadata": {},
   "outputs": [
    {
     "data": {
      "text/plain": [
       "['200', '300', '400', '', '100', '200', '300', '', '']"
      ]
     },
     "execution_count": 47,
     "metadata": {},
     "output_type": "execute_result"
    }
   ],
   "source": [
    "a.split('\\n')"
   ]
  },
  {
   "cell_type": "code",
   "execution_count": null,
   "id": "b87b4254",
   "metadata": {},
   "outputs": [],
   "source": []
  },
  {
   "cell_type": "code",
   "execution_count": null,
   "id": "fec2a9ea",
   "metadata": {},
   "outputs": [],
   "source": []
  },
  {
   "cell_type": "code",
   "execution_count": null,
   "id": "432de8d7",
   "metadata": {},
   "outputs": [],
   "source": []
  },
  {
   "cell_type": "code",
   "execution_count": null,
   "id": "746ec615",
   "metadata": {},
   "outputs": [],
   "source": []
  },
  {
   "cell_type": "code",
   "execution_count": null,
   "id": "2ba0857f",
   "metadata": {},
   "outputs": [],
   "source": []
  },
  {
   "cell_type": "code",
   "execution_count": null,
   "id": "ffad6699",
   "metadata": {},
   "outputs": [],
   "source": []
  },
  {
   "cell_type": "code",
   "execution_count": null,
   "id": "394fed16",
   "metadata": {},
   "outputs": [],
   "source": []
  },
  {
   "cell_type": "code",
   "execution_count": null,
   "id": "b2f16ebd",
   "metadata": {},
   "outputs": [],
   "source": []
  },
  {
   "cell_type": "code",
   "execution_count": null,
   "id": "a9d0811c",
   "metadata": {},
   "outputs": [],
   "source": []
  },
  {
   "cell_type": "code",
   "execution_count": null,
   "id": "8fd633c6",
   "metadata": {},
   "outputs": [],
   "source": []
  },
  {
   "cell_type": "code",
   "execution_count": 17,
   "id": "85b5f2dd",
   "metadata": {},
   "outputs": [
    {
     "name": "stdout",
     "output_type": "stream",
     "text": [
      "199628\n"
     ]
    }
   ],
   "source": [
    "with open(\"/Users/nic/Documents/aoc22/day1_input.txt\") as f:\n",
    "    today = f.read().split('\\n')\n",
    "\n",
    "mmax = [0,0,0]\n",
    "cur = 0\n",
    "for i in today:\n",
    "    if i == \"\" or i == \"\\n\":\n",
    "        if cur > mmax[2]:\n",
    "            mmax[2] = cur\n",
    "            mmax.sort(reverse=True)\n",
    "        cur = 0\n",
    "        continue\n",
    "    cur += int(i)\n",
    "\n",
    "print(sum(mmax))\n",
    "    "
   ]
  },
  {
   "cell_type": "code",
   "execution_count": 35,
   "id": "6d847fc0",
   "metadata": {},
   "outputs": [
    {
     "name": "stdout",
     "output_type": "stream",
     "text": [
      "13490\n"
     ]
    }
   ],
   "source": [
    "with open(\"/Users/nic/Documents/aoc22/day2_input.txt\") as f:\n",
    "    today = f.read().split('\\n')[:-1]\n",
    "#A rock, B paper, C scissors\n",
    "#X Rock, Y Paper, Z Scissors\n",
    "summer = 0\n",
    "for i in today:\n",
    "    #print(i)\n",
    "    summer += calcday2(i)\n",
    "print(summer)"
   ]
  },
  {
   "cell_type": "code",
   "execution_count": 32,
   "id": "215683a8",
   "metadata": {},
   "outputs": [],
   "source": [
    "def calcday(day):\n",
    "    ret = 0\n",
    "    n1,n2 = day.split()\n",
    "    #print(n1,n2)\n",
    "    # x,y,z = 1,2,3\n",
    "    # lose, draw, win = 0, 3, 6\n",
    "    throw = {'X': 1, 'Y': 2, 'Z': 3}\n",
    "    result = {'win': 6, 'lose': 0, 'draw': 3}\n",
    "\n",
    "    if n1 == 'A':\n",
    "        if n2 == 'X':\n",
    "            ret = throw[n2] + result['draw']\n",
    "        elif n2 == 'Y':\n",
    "            ret = throw[n2] + result['win']\n",
    "        elif n2 == 'Z':\n",
    "            ret = throw[n2] + result['lose']\n",
    "    elif n1 == 'B':\n",
    "        if n2 == 'X':\n",
    "            ret = throw[n2] + result['lose']\n",
    "        elif n2 == 'Y':\n",
    "            ret = throw[n2] + result['draw']\n",
    "        elif n2 == 'Z':\n",
    "            ret = throw[n2] + result['win']\n",
    "    elif n1 == 'C':\n",
    "        if n2 == 'X':\n",
    "            ret = throw[n2] + result['win']\n",
    "        elif n2 == 'Y':\n",
    "            ret = throw[n2] + result['lose']\n",
    "        elif n2 == 'Z':\n",
    "            ret = throw[n2] + result['draw']\n",
    "    #print(ret)\n",
    "    return ret"
   ]
  },
  {
   "cell_type": "code",
   "execution_count": 34,
   "id": "3ee191af",
   "metadata": {},
   "outputs": [],
   "source": [
    "def calcday2(day):\n",
    "    #A rock, B paper, C scissors\n",
    "    #X Lose, Y Draw, Z Win\n",
    "    # x,y,z = 1,2,3\n",
    "    # lose, draw, win = 0, 3, 6\n",
    "    ret = 0\n",
    "    n1,n2 = day.split()\n",
    "    r = {'X': 'lose', 'Y': 'draw', 'Z': 'win'}\n",
    "    result = {'win': 6, 'lose': 0, 'draw': 3}\n",
    "    throw = {'rock': 1, 'paper': 2, 'scissors': 3}\n",
    "    \n",
    "    if n2 == \"X\":\n",
    "        if n1 == 'A':\n",
    "            ret = result[r[n2]] + throw['scissors']\n",
    "        elif n1 == 'B':\n",
    "            ret = result[r[n2]] + throw['rock']\n",
    "        elif n1 == 'C':\n",
    "            ret = result[r[n2]] + throw['paper']\n",
    "    elif n2 == \"Y\":\n",
    "        if n1 == 'A':\n",
    "            ret = result[r[n2]] + throw['rock']\n",
    "        elif n1 == 'B':\n",
    "            ret = result[r[n2]] + throw['paper']\n",
    "        elif n1 == 'C':\n",
    "            ret = result[r[n2]] + throw['scissors']\n",
    "    elif n2 == \"Z\":\n",
    "        if n1 == 'A':\n",
    "            ret = result[r[n2]] + throw['paper']\n",
    "        elif n1 == 'B':\n",
    "            ret = result[r[n2]] + throw['scissors']\n",
    "        elif n1 == 'C':\n",
    "            ret = result[r[n2]] + throw['rock']\n",
    "    return ret\n",
    "    "
   ]
  },
  {
   "cell_type": "markdown",
   "id": "344424da",
   "metadata": {},
   "source": [
    "****************************** DAY 3 ********************************"
   ]
  },
  {
   "cell_type": "code",
   "execution_count": 19,
   "id": "af5ba90c",
   "metadata": {},
   "outputs": [
    {
     "name": "stdout",
     "output_type": "stream",
     "text": [
      "['gvNbShZZgQfWdQhdPQmggLTFLwmwjFqjVVgM', 'CsJnHllcsnnnnJrGRnRwPPLVmFLHLBjFFVHmPT', 'JlnCtctJnJDcJlDCRpPrSSQWfphzWZfbZSvfNfbS', 'WjvRSdSQjvpjWzNlnZlNZqCCMzZZ', 'nJtJsbctPBPwLNcDZNNGLClC', 'tsFJHBgJwgJbnvSHHWVWHhVhpQ', 'zRzPhCCSHVZzfGHZ', 'qBsWBpqBwBcvqqWgdfZrprdggPHHVZ', 'WWmvwvBbnWmnwvWcbmWWnqNCRSDRRSSjjSDbPJbRjClLhC', 'rQrznfHHhrHzllzlzTGcJgtJ', 'jhhjjSZVPWVZvSFtTttLTglgFtvm', 'dqSCqVWdbDSSVqbVVSqhNdrnpnCnfsnnwfnsRpMpBMrf', 'rTnvrSSHvHtnDQVDtfmW', 'ZjCglhcCJschpZbZgbtGmRtbGmwtQtbmtN', 'FFZCghFJhlslFpjcdFTPLHHmrqTMTdzBLHLH', 'WzDfrDwwDCCDMnfDHHJjTHTtNdngdHtQ', 'FmScGPPPPmpspchbGHtRsjdJJJWJWNttgH', 'bvhFlVhPchPvqWLwqLWqvq', 'RcchVlCCvmhDRjNJJJjbjllZlJ', 'wPwFGFMPfpdtqbpwFFfGPQZTWTZjtzQWTBBQJzZjZZ', 'fbwPqqMPwdgvmDVDhmRCgR', 'SSQggtQVQQgQGmGVthVnWDGjCBLLzdDNCCjDGWCW', 'RcHcHbFqbPMZRFTvHFFFlcZZBNBtNjjLLjDdjLjDqWCpNLpj', 'sPPclZcsZtMPfVsnnwwVJhmQ', 'jlrwpVPjMwfzZfhfwddH', 'DbQBGgBJPPBBHfPZ', 'ggGSQTnTgQGbSRQRPrNlsjVjMrpmMLnrrW', 'MzNNbMSrZNSSvGWWznwGQlTG', 'ZCFCJHqJFjqTTqngPwPG', 'LCJLJCCFtfjsJCMbZSMSbbcDdBfd', 'LCdjljfJJBfLDCCdJqGqsGGtmBsWtbGmSS', 'gpgchRcPgRRQNZcpNhgNPzzmGrmrGwtSSswqrSGbbTzt', 'QgQvNppRPQcggZNccchvNZgCjlnsDLDflDdfjLfMDVsMLv', 'jfSfTWfwTJffQQNwTCHnGGGgHbgqGFvF', 'LmspctdsLDlBLPmFFgqbqFFbqlnSRS', 'PSZZsctsDDtdBmzBLBSmpJjMzWwjVfwJVMrNfwrfzf', 'zFZqbRNRHNHhqHFqzNnzzqDQVFMggMgDpmJMTgpVTQFJ', 'SwLVsSWBfStDGMfDTDGGGT', 'vlCBVsSvCRrHRjCqrn', 'ndGVddlVdrcGlGcljdVGjCgfffPCCLfCMvqWvPnqgn', 'FNtRZBDDSNSNStDhFRNQtLgCMTCBqvLMMTfJqBLPLP', 'bwQwZhSDFhZbFSNccwzwHmHHjHMwsd', 'BrSDgqrgWzWDwJBzMDWBLjpmVLFfFPLVJjVVPLFV', 'cNnRlvNRvQTcnZwmfQGPmfVFPP', 'dsCNllvTdnntTlTsHcdCRtNRBDWBDWDrWBhDBqMBDqbzWwCr', 'stLcchcTwRcsVTtftVVthchqmmCCFvWmmgSgQFCwGvWSFCrr', 'PljDbZbzjllHdQNWHMFGrMMHMFrmmM', 'njjjzbPdqRcRQQns', 'BTBLwzmqWNbpzqNzLppLBnhZJcJSHThhnnJZHHSQnr', 'RfQgDjgsjVfRFDdvddtvhhhJCnrSnMZCcMSCSJ', 'QRtjtRQQlzlqqzzzBW', 'FnzllplJMntnzptLFzsjTVSQcSjSjQFFmdQQ', 'wgwrBrwGHPGBqHrDcpmjddSQTmTGVmmG', 'DBhhNBrCrMvNvzptpN', 'LgSbLLRJQSzLCgJRJhWCCzRBdZdcMfcHsMdFFjfPjsCHBc', 'nrVTnmrrrlnGGmrlVwVZPFHmdsZHBmjMcdjfcZ', 'wrnTlNpvVVrqFrtnwGqwwrTpSgSQQLbQRzQSQRJbQpDbQz', 'pgvmcpVcpwJppwgwvMWfHbRGRHDBJbWGfGGb', 'hQqFqQNhqdCPNhTQCCFbbjmBHBbBRjGHBDBGFj', 'TtdCCNlPCmssnqgvzzvvtVrgzzrc', 'JltddTSgtLLvgvdldgvWPZPPSjWMjCfWNjNWPG', 'FrwpbwhbmfjGRpGPNM', 'cmBrBcBnmFBQqcFbscBhQfttznJgzlLLDlnglzLLlg', 'mDhRsDzWZzGhhhWpZwzwGdfbFsfFTQTLcNFfFrNvvcbT', 'ngMHjjgVgqHnPlnqtnClMHbfCJFbcLFFJFLbrQNbFQcQ', 'SlqHqVVqPnBHSHHljlMndBdZQphRhdGpzWmWWwBh', 'hVNhcfbSSNMfjjMlqRCqpdzpRJdnhl', 'sBHPPwQwttBBssLCHzDBlDDmRmpJdqJJJd', 'sHHwtsHTWwtZPHtZbbVSgMbGCNjNvN', 'SgMtSMVChFBHBFdCwhdqPcPsbRVQqsblDbRmlc', 'jlrLWfvWvzWWzmcQcqcNbmNDjR', 'JpLznrnfGrrfnWWzTpfvzvdHHCgSBwdlTMhCTMFhBBwg', 'fptnFPLsttddDdRhQShQzC', 'BqGHGlqmmGmlJmNmqlbbCzSCQHDzSjHhfSShjfVh', 'fbrrMqGGBlNMGNqrqglmrLZwFcwgFwsPcscctpWLgn', 'TCMMTtWBqCMMMWWMSWhNFhlNBNlNHwNDsvhw', 'frfdrbZJrVLdZLbnJcrmvhlhHshlgsZsHwwghZ', 'fLRVvcvRVpfbcfVVJTqpWCCSqCCTTtjjPj', 'vRCGzdTtvdBCTzCdmVsQjnVttngthgnQHs', 'rLNZlrwrjrFLMsggsQpsQngqMq', 'NfjZWcbffDrLZfNLbDczvmcTvvGCmCBBmSdP', 'DSqdzrHgJtSHMgvmnNGdcmCnvssN', 'ZwQLlVlRVVWZFZhbJZVjRJscvBGcpssLpBcnGpBsmpBs', 'TwwjjQJTjlhwMfTDgMrfgtqg', 'HhvVhgddvdvqTqVqHQgjgmCPWGrcWsGWPcvlsWrWmC', 'lbJBBFbMlJFRCmsRmRPtCtwm', 'FMLLpDLnFpFJbDfLnZZSzhqHVdVQjgSdlQTZ', 'mvBrszzsrrrGsBDvBvszDRQDhjCwWdLhJdCjjWZdqqdZdW', 'gMlfFVccTGMGPMSCdcLLdqhjLJWWdZ', 'VfggggPVltVSlSlHfgFtTpfRGmRrrrvQpQsrGmnvnQbzmz', 'HjtMgWbHBtbtcggVcHwMwcdzpZFGzGZFpvFFZZWnnpFG', 'RNNrfmSrSSzdGBzFfJFq', 'mNsSrrTPPRshmsBClRClPmSccVgQVHjHwtHwTMbTVwMHgg', 'pZmmLpQLDJBCPCssJTsCTc', 'SwlLwWvSwNSSSMSMfWLvvVdPFzjfTscdjcCsjzCPddFc', 'vbVMqGbLSVMhDQnRRQnBqH', 'lNmNwlmlbhhfFNgpJLnHfTHfTdnTML', 'BGvCwVGVPSDWDMMJTHZMpndH', 'rVcBrPSPCwWqPwGCBCSrqlNNQFhsQhtlhhhgNQtb', 'HqZCQRQgWjpmZHRHqQjttGGJQNQtwQGGGbGrJz', 'SlddfFVMLncbJJMzMzzMwD', 'ndSznsdVHsqgpZvH', 'sNStMtNtDztrvrRGPRRRRrNzqcchgJJLqnBScBcJThJggJBT', 'QCWWZbCbCVjVbFVFbVwbnhqLqhghBLwwTqJJcpgTBL', 'ZlHjfHHFWFjCdbHlQFnfdnZFMzPzrrlMrtrrGRMsDPrGvGPz', 'NnDHhNNldhNTdHllpptCRtftzmGBGmVRVGRH', 'wgZgZJLBwqgLSWrBvZVVzmffWzRmGsGmmssm', 'bgqPBBLbPbrrZBjjlpjccjDdDchFTNlc', 'WRWNNRWNfLZtsmtSWrtLmWgTcMcPrpMTcVMMPPBBqjcg', 'QJJDFbpnpJdlcwcgBTqlgPwc', 'GJFHJGhHnpWWShpsRS', 'DHDZvDQWdHJMHlJf', 'RhhnGLnBtGrnLjwwJTTMTdQccllSMQ', 'rmFrrBGQLQFLjbFnBhQLhrRGCPVDWzgmpsWvWWDzppWpzCvC', 'bsrJrWgWJvQRqbbRDNGGZDlwNfNfwS', 'ttCHThhhcBVpTBcdhdpfNGDSQLwDLfDGfQllCG', 'jFjzcFhzQTTjHFvJsrPPnnFgPb', 'SZggDgNLGCQzSgRsljscPvPPbHsBNc', 'TtFfTpMthzhFFTpdMMJPfjPPWjBbHbjPlPPBjj', 'dpdttMMTJttzMFhqFwGLgGRSrrQGSZrwRrDQ', 'JsJntWmghjgJTpfgFCczlztzrDZDtDzC', 'QddBBdBSPPPHBSVHVHvNdPVRClvlcclCDLCLFRFrrDLcZc', 'NVwBVSNlSBNHngnngsJWhwWh', 'hQVWJGWJlJQDGJHQWHpVWJVHmfPGPcjfdLdLSrcCmfjPjCPm', 'wgwnRwMvNvBvFZMngNvFZCjdSSfcbPLjCbcdCbSf', 'wgnRvMMvjMsTwngTgnnDVDWJDplHWhlhQWlWDT', 'WGswWFGsBFwHvjnbnnJjbG', 'gLDrSrPpLfmmDqqbbJZsjvmvRv', 'DTldTpTsDLgSsLpfPTslVdVVdNWVzcNwtWdWhzVt', 'sttWrhWZsLVtJVZrWhgbCPQQbDNVCHglnnlN', 'vvRRRMqpmTjwFqmfjFjmBMwNbCwQNgHgDnbNnHQHQCDg', 'THpvmBGfzWGzSzzS', 'nmZwwfPmNggwgPgNmdvPPhTRHTHBJTsvSP', 'WDccMzVQzGWcrllLdsGTvTsJJBLTdL', 'pWtzQrzDlrCpcQztlzCCCpCVFFFwtgmfbjmbqwZjZfmFwfdw', 'bmMNNMVSRWBWCSmVRdMRmMnvZZscvvszGcnZClpcGsvZ', 'gfLfDDtDgjgDtWTjFQjHsvvpZqqplfvvcllcnnvG', 'TFPjDtWPNPwBBBNB', 'QcTCHcTwdpQgcWzWwvMPRzSGwW', 'sDNjfhVmnlVffmLNfLbMPPDbqGtMSRWtDMtP', 'fZjJJshhhLNnrCJScHSccTQQ', 'qfhBhLLjvMqWWBWjsQGrdrGzpszpGrqd', 'JTSDHFtlTDbHTcFcDbTHzmrNRdRRbNzrmRRnRpnQ', 'PHcltTgJDlplgptScCfCgWMVfvfZvhMMBV', 'rttDPglHZZDDDPHgZtgWBswdsTfpfdplLqfsFfFdfd', 'cRVvpcmpmRSCGGCcMQmQFqNNqdVdqTbLwNbdFfFs', 'zhGjRhSvcMtnrpZjHZBg', 'STNrrzVdTJwsBggwFgBN', 'WbtMWJJpwpDsLBfP', 'cbvncCCmWtCGMcZHVVSlJVQrzvzVqQ', 'MtPVBHVbBBTwbvWgRgvF', 'LhZjZpnnMRwWfhSh', 'LQcQCLCCCcnmnqZpcrpnrjQlsBMHddtMGGzrJHPPsHsNPPJz', 'NbZtmZDmNNDBHBhDNtNGcvpmgLmmFrvprgrFGv', 'djMjffMdqnVVTdMfTPnQSFScFFVSLLFrvccvcllL', 'PPdPwMQwTMWDwBDZLHZN', 'DqpJFdhtmdSwpqSncljHsnfjqlbzlc', 'rQVZLGMWPCNrCGMwNVMcbzsVgfHHgfncfscssH', 'NBCrPLwMTrrMBLQLwCFhpFBDFdFFtdvDFvpD', 'QRwGBdGwqRTBMWRMMzBqQHHhngspPFFbHbzgbhZLLP', 'rCNmDjvrCFpvLZsgPb', 'lDrmpcfCtVDtCjlfNfQQqVdJBQWRVVRMMMJQ', 'zcgjlRcJCFtlnTvppn', 'BLSHDMVPVPHVHwFwMhTvgnFZMh', 'DsLSDdmPVNVdGgrzCCdbjc', 'tjjRbNQtvJVVsvqsvdTsGqBp', 'wlFLPZPzzzrzwZPmZfZPlrmpLDCpWDWCSTCpppDDBssdWG', 'rwwcFFghFmgTcNRJNnnNJtHV', 'RLhbzMhccqLzdjghdFddNWPN', 'DmsTZfvrfJLPPWwrdFgw', 'LsmDtQDfLLGbGQbSzcpM', 'qwhmmHlHmlwChcCWlpPCBzjPVdBzLsdLBVsT', 'DnJDMqRDsPsjRVQR', 'tSGSnNNSbrJJGfDSSfbchpvptFwmpcvlHqZlcF', 'rdQdBRPrQBBnfdBbzLLgLgmbzSLCPW', 'TcRTcFDTcjvswMWzzgLSzwwSLJbL', 'MNTRMNGTsFMMqqqcMDTTnfpBhQhNpHZBZHBfrptQ', 'ZZFwcQGwRGLTGLTl', 'rJtMrqBVvhBCnlCn', 'WWWMttbqqzfPWqWJVzmDQwFQlwZwjQfjgFcZ', 'RhgmdBbLLmRvhGZwhZZJDwGq', 'ldPpTtTPtVPpfTGzJQFGFqJsFG', 'MPpCnrlCVfPtrPVtntllnbdHSbnBvvgdgHgnWvSv', 'nbnfjQbQZBqBvjQdVFGHhsQhsFsFzGpD', 'RSJSTTcCVTTMlSNcSTRRwTccpwDFDDzFhHhtwppssFGGpsDp', 'clcTNJlLMgrcgRvBjfWVfWfBrrZn', 'LHQdpQLQDRcDBQccVQpnNRhllzMtRqzRztTNnt', 'mrvZPZvZvZbPSFJrSrggFvrJzbhlzttTlNtqtsMtTntntdqq', 'GPfJPJwfZFrmFvrPmgHHQLQWdHQBwWWCHVVC', 'TvTTLfflhZmwZLvtJmhdFhMpnWrpnbJcWMnpHzMrzbcn', 'VqRRNGCBjRmqPGqDzbHMcMccWnzngHnP', 'jNqNBjsDsDRCNVsmBRNQNRSSSddhZvLhddZhvhwvLTZwhSfT', 'vjpJvpgpNwjDWvvJLhFLLhNRTmPTRPRF', 'HHbHVrMHMmqzHlGmtGqMtdLCLQthQQPCSPTSFLLPRT', 'bZZzbHszMrqzGmrHMBzbHbqJjffcDgwWjDJpnjjcscwgnw', 'fBHDMNhhHMrBDBrfQqfwwvvLvfjLZZ', 'lmppmGJgPPpddJVdnwsQjLttqtjZTpcsvT', 'RndRmlGWJgdRnWQJQgWdQPlFFbhhbFbHbHMhhBbRDRFrrS', 'tVhwlMdMWlhlZMZMlzWrtRpBNpLPpmnmCPQBLppPPPBz', 'GvGTsgjcTLRQHmTQ', 'gGRGbfbgbcSbbcRggvfcwlZVhVMfltddVtrlZdhW', 'PwjPHwWssqrHqCqprpCPjwrrQnnDbdnQnGQHnbZbGQZbBQdD', 'WvNtLhfLndnBNbJJ', 'fvhvvWfTmtzTmjpsVVqsPzMjjq', 'GjHMMTMfZbnqHnJNCN', 'rlpQpthdlQbnlJqRzqVL', 'spphwcpBvcvdvFTqPDFfwwPZTG', 'mQfqmtpfBHJCHdlMDB', 'cbbPPsZqjqcSvVsCrDllsrdzrzzD', 'TSbVTvShqnVjPTPbggSPbNFQWGtfNLtFfWgGmGgGWR', 'HJtwgJJwJrcjRRjRnwhVdrVbmGhPmNNrGhdV', 'fWFvTDssTDMCBCWsvszWWMCQhZhLLNvNNbhVGGZdRZRdmhmd', 'zCTBzWzDDCDCfFCRqCJHcJJctjJSgHpqHqJg', 'dgnwgbcwVGbgDWnQbjdgDnBRBBNNqRLBNMLFRMRlqNsc', 'fTZHmTmzJMmSSCZChZvZTHRlBNBFqtqftlqssqNqftts', 'JTHJvhzCHpmPCSSTzPpPzJHgQVdQQjQdQwjgdpgdDMGgQM', 'qPGmWLJWBRRdvqvvNq', 'TnZHsTZsZsZZbDtbrNrdnDft', 'SShhQQZCHQCSTVlllVVQCjQWNJGFWpWgFpmmVmNgLgFpGw', 'TsSmttWMVstNfbMfBcpnFchFwFwZNrrwFp', 'DWWCGlHWdhddwpcrjh', 'gQvPqglRCHCHCPCPCJbbtSVVWtTVVJvTbs', 'ddHSZQHDStZStLtsdDpbCbBPcjGGCqCMBGdNPb', 'hWhvmglVznzglgzvzfznwfnfscswPjbMBMjNGBMPGMcjcPwP', 'sJWsJfVflWsnhrltrZLFDDRRFTSSLT', 'qqCqLNjnPPLZPjqnDjLNgnNrcGwtgddGrhprBJhhJtBGJG', 'lTMDsDHmlRRbQQbVfMHFmMBJhwcTddrcpBBGdGGJcJdB', 'lHFfQFssFFFMQRVWQVlssLnDSLLPvZZPqWCLWSqjvS', 'pJPZRpQtpPQpGPqWbqlWTdLVLJbT', 'nnnjCwgrgcCFBfnggBCsMTVbVsWVWdCTTdbb', 'cfhcnwnrcggrncrwcjBDcGHmNPRRGRZZQRRdDZzmzH', 'NqTrrzLpTNdLLJBBcBGGZGpFHB', 'sWbgfHSfSgVgZcmGtStZwBFG', 'VjQjjPjhbbfsCbbDQCgsDrRhzMdlNzHTRdRhqdNTrq', 'GlqfPdvdBqPgfqDgFMsMVDppbsNJNpMs', 'WnmmWCTCjZnmzRjTZRRnFBMNpbZZpFJMSFSNFSbS', 'TRRrnLBmzjttRRCmTRjjwLlvdhQvdrhqqlGdPqGggPlQ', 'McjMPgPgGPHJWjhPNgPqQbpQSfqffnWVnnnpnZ', 'BwwDmBTLRBBLzBTBTvtVqlfpqfbQqpqZbnQFlt', 'rDsDBsmvRTBRzCTZsTmCsCrLPgNcPHNhPccNHHrjMNrgdNdP', 'GqmLFDrcglvQGZwwzj', 'nlHbSNBhhslJfsBfvdZHdCvRzdCzppzR', 'JWShMfWMMthSJBBthJsgtcTTcFqcTrmTLrrTlr', 'CsBsShBWsBWhvFJWCSsJpbTZdTbdBRgHffRlHHHBgH', 'tqmnwwwDmVwfzZblzTRqzQ', 'DGtDjGMcntMGnnGhhjJJJsCpFRRSJJ', 'GQVVcGgFGcSFvfcFfJVnQmdbTwMLwTTnbnQMws', 'ZqZrDWDtNPPHRNPzGCdndLLMLwMWhwbmLddn', 'DRqRHCHlCtDrqtNqDplfpvGFjVjvBSFFcj', 'zfSfdGPdMVHHdcMThhpwqqrwrqJhcF', 'vlDNTWDDWWnngNQZtgwLrJZqLFZLFJpFJjJJ', 'NCtWmnvBmDnWQVTmTGSRmmRTPz', 'LLvppVLDsppGMGCLCCwNmJMNrNHrNmNNmHFjrh', 'lZZfvfgRPZQWNNmlWlFNHl', 'nnRtndRbcPttvTpswLTs', 'trtzWfszNPlhPlgrWglhZjSLDBvTfSDTmSvmLvfS', 'QMdVVGBQMTJDvSjdHJ', 'nBppGVVnQQgzgPsPzzhp', 'fVQzVrQVtVzHwjtMTjcTCjFgcDCGCd', 'JslDPWLbLbZlJBMgBTBPdcFTFd', 'JNJmZsDLnLDWmsVqSrHqnHqQwQSq', 'mLMZRMRmZLmHLLjNshrrJjRsNNsj', 'PnqnBVBPcpWrWfWzDhDsHW', 'qpBQgcQncqpBcVgtclHqcSMTLZZQvLLZdLdwCmLMSd', 'PZgMwZMjPgBCWgZFgmBGSTtwcccztTzbnGDcNT', 'vJLlvvlfdsVVslVHrrpLfRlDcSScmbSnnRGDnbDTSbSSDt', 'fvVHdLfLQljmmqqMQPhQ', 'DZRstNGrDWGRMlzLHLMpNSpp', 'bPgCrCvgnrCPgwplbMSjfHzHfj', 'CgnFnBVrFFVmdVggmPPVTTcZBGhRqGtcZqqJhGRGssWs', 'WrrCGrDlWhBBZtHB', 'ggdcnQpcPRSpzfvJBTfPJvtP', 'gSNnSBFnSMBNjpMssDmCrrGmCLqq', 'szZGZGGwNdVtpwvbzptzVBQQLFclTJQFlHJNcFBRRJ', 'CTrqSfWThWDjJCcLQRRRFLlQ', 'rggqfMqPWnDqnVbZvTtPZpssVw', 'GJHqPPcJnhthNHnL', 'rzzlVDVTQDzSSdsSlzpBspssLhmZNjhZWjjffWBLZhgBmnjt', 'TSTQTsnTbDsMvCGwcFvbJR', 'PPjtzdnCnSjSthPjWJgJWjgMNBsNrT', 'bZHfLLhvhpbfvLhHfQbqpNJTWWNsqNTrTNrgWN', 'ZFbZZFvlRvZwhQwLDSdGnmCGmnlmdznD', 'RFRRhzzsRsszRlhbrhgBcbTfHgBT', 'pJtNmSgwZNtSJLgSqHcbBDDTHPfrSqTc', 'ZNWdpNCJtLZpQJLLpmLtZNFGjVgFnsngRGllVsjjCnvs', 'sJVRJmmmwwlmzcszMzjRjJVzspCZBsZTTFpTTZvSZTFBFbtZ', 'GhNDgNWnGGqDvFSCZvbtFpvg', 'fWrCNNffGnhWdrPhWjwjzRlJmcjRcPzlmV', 'FdncmqmgcZztLWFvFFvjWLlT', 'RsMMJVpfhJVsDVMfJpvlTWTvhjQSQvCbLCSC', 'jDBjRrsVfNJgzdZrZwtmZt', 'THDDQLZTGQQLQDSSTBCZSZHfFrvvlVRRlPVFfVrvqnvnnH', 'VbWWcgbNpjgPrRvrNfqnzv', 'swggwpJWwsWscJsDSLTJTmSVZJTBDZ', 'wGsznPGGBHdzHhtHDD', 'WMVSWqVmrSBMpvWVMFtdClhDtqDDHhdtQt', 'RgWVRcmgnPPnjJBg', 'BmfPBHBFswLLjQQnLCnzzW', 'SRdvvRSGrdlRSvTgRrMVCjVWCZzMnVZhWzTj', 'vlSRJrRJvbGGrSSJgWvlScptFmwbmfHHBfsNFmBbfsFm']\n"
     ]
    }
   ],
   "source": [
    "with open(\"/Users/nic/Documents/aoc22/day3_input.txt\") as f:\n",
    "    today = f.read().split('\\n')[:-1]\n",
    "#A rock, B paper, C scissors\n",
    "#X Rock, Y Paper, Z Scissors\n",
    "print(today)\n"
   ]
  },
  {
   "cell_type": "code",
   "execution_count": 54,
   "id": "c75f253b",
   "metadata": {},
   "outputs": [],
   "source": [
    "with open(\"/Users/nic/Documents/aoc22/day3_input.txt\") as f:\n",
    "    today = f.read().split('\\n')[:-1]\n",
    "values = {char:idx for idx, char in enumerate(\"abcdefghijklmnopqrstuvwxyzABCDEFGHIJKLMNOPQRSTUVWXYZ\", 1)}"
   ]
  },
  {
   "cell_type": "code",
   "execution_count": 50,
   "id": "fa9d7fec",
   "metadata": {},
   "outputs": [],
   "source": [
    "def calcday3(pack):\n",
    "    p1,p2 = pack[:len(pack)//2], pack[len(pack)//2:]\n",
    "    dif = set(p1).intersection(set(p2))\n",
    "\n",
    "    return values[next(iter(dif))]\n",
    "    \n",
    "\n",
    "sumone = 0\n",
    "for i in today:\n",
    "    sumone += calcday3(i)\n",
    "print(sumone)"
   ]
  },
  {
   "cell_type": "code",
   "execution_count": 76,
   "id": "4fab45f8",
   "metadata": {},
   "outputs": [],
   "source": [
    "def calcday32(packs):\n",
    "    #print(packs)\n",
    "    ret = set(packs[0]).intersection(set(packs[1])).intersection(set(packs[2]))\n",
    "    return values[next(iter(ret))]"
   ]
  },
  {
   "cell_type": "code",
   "execution_count": 77,
   "id": "a4a4444b",
   "metadata": {},
   "outputs": [
    {
     "name": "stdout",
     "output_type": "stream",
     "text": [
      "2758\n"
     ]
    }
   ],
   "source": [
    "n = 0\n",
    "team = []\n",
    "total = 0\n",
    "for i in today:\n",
    "    team.append(i)\n",
    "    n+=1\n",
    "    if n == 3:\n",
    "        total += calcday32(team)\n",
    "        team = []\n",
    "        n = 0\n",
    "\n",
    "print(total)\n",
    "\n",
    "    "
   ]
  },
  {
   "cell_type": "code",
   "execution_count": 128,
   "id": "ec279225",
   "metadata": {},
   "outputs": [],
   "source": [
    "def overlapers(day):\n",
    "    elf1, elf2 = day.split(',')\n",
    "    elf1 = [int(x) for x in elf1.split('-')]\n",
    "    elf2 = [int(x) for x in elf2.split('-')]\n",
    "\n",
    "    if elf1[0] <= elf2[0] and elf1[1] >= elf2[0]:\n",
    "        # 2-4, 3-5\n",
    "        return 1\n",
    "    elif elf2[0] <= elf1[0] and elf2[1] >= elf1[0]:\n",
    "        # 3-5, 2-4\n",
    "        return 1\n",
    "    else:\n",
    "        return 0"
   ]
  },
  {
   "cell_type": "code",
   "execution_count": 131,
   "id": "3441bd90",
   "metadata": {},
   "outputs": [
    {
     "name": "stdout",
     "output_type": "stream",
     "text": [
      "956\n"
     ]
    }
   ],
   "source": [
    "with open(\"/Users/nic/Documents/aoc22/day4_input.txt\") as f:\n",
    "    today4 = f.read().split('\\n')[:-1]\n",
    "\n",
    "total = 0\n",
    "for day in today4:\n",
    "    total += overlapers(day)\n",
    "print(total)"
   ]
  },
  {
   "cell_type": "code",
   "execution_count": null,
   "id": "e7aee771",
   "metadata": {},
   "outputs": [],
   "source": []
  }
 ],
 "metadata": {
  "kernelspec": {
   "display_name": "Python 3 (ipykernel)",
   "language": "python",
   "name": "python3"
  },
  "language_info": {
   "codemirror_mode": {
    "name": "ipython",
    "version": 3
   },
   "file_extension": ".py",
   "mimetype": "text/x-python",
   "name": "python",
   "nbconvert_exporter": "python",
   "pygments_lexer": "ipython3",
   "version": "3.9.6"
  }
 },
 "nbformat": 4,
 "nbformat_minor": 5
}
